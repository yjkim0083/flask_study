{
 "cells": [
  {
   "cell_type": "code",
   "execution_count": 42,
   "metadata": {},
   "outputs": [],
   "source": [
    "import numpy as np\n",
    "import csv"
   ]
  },
  {
   "cell_type": "code",
   "execution_count": 43,
   "metadata": {},
   "outputs": [
    {
     "data": {
      "text/plain": [
       "[['-1.4942683', '32.40292', '4.0'],\n",
       " ['-4.8974113', '69.40542', '7.0'],\n",
       " ['-19.046196', '-31.16156', '9.0'],\n",
       " ['61.31326', '-14.466006', '8.0'],\n",
       " ['17.41965', '-0.66559273', '2.0'],\n",
       " ['20.075819', '12.780175', '1.0'],\n",
       " ['-58.33902', '-12.129147', '1.0'],\n",
       " ['-44.675434', '-36.76419', '2.0'],\n",
       " ['37.806778', '19.950216', '0.0'],\n",
       " ['-15.086156', '-6.904208', '1.0'],\n",
       " ['19.408829', '-62.19301', '3.0'],\n",
       " ['4.305963', '-41.01206', '1.0']]"
      ]
     },
     "execution_count": 43,
     "metadata": {},
     "output_type": "execute_result"
    }
   ],
   "source": [
    "_data = \"\"\n",
    "with open(\"hello.csv\", 'r') as f:\n",
    "    reader = csv.reader(f, delimiter=\",\")\n",
    "    header = next(reader)\n",
    "    _data = list(reader)\n",
    "_data\n",
    "#     headers = next(reader)\n",
    "#     data = list(reader)\n",
    "#     _data = np.array(data).astype(float)"
   ]
  },
  {
   "cell_type": "code",
   "execution_count": 44,
   "metadata": {},
   "outputs": [
    {
     "name": "stdout",
     "output_type": "stream",
     "text": [
      "[['-1.4942683', '32.40292', '4.0'], ['-4.8974113', '69.40542', '7.0'], ['-19.046196', '-31.16156', '9.0'], ['61.31326', '-14.466006', '8.0'], ['17.41965', '-0.66559273', '2.0'], ['20.075819', '12.780175', '1.0'], ['-58.33902', '-12.129147', '1.0'], ['-44.675434', '-36.76419', '2.0'], ['37.806778', '19.950216', '0.0'], ['-15.086156', '-6.904208', '1.0'], ['19.408829', '-62.19301', '3.0'], ['4.305963', '-41.01206', '1.0']]\n"
     ]
    }
   ],
   "source": [
    "print(_data)"
   ]
  },
  {
   "cell_type": "code",
   "execution_count": 45,
   "metadata": {},
   "outputs": [
    {
     "data": {
      "text/plain": [
       "['x', 'y', 'label']"
      ]
     },
     "execution_count": 45,
     "metadata": {},
     "output_type": "execute_result"
    }
   ],
   "source": [
    "header"
   ]
  },
  {
   "cell_type": "code",
   "execution_count": 9,
   "metadata": {},
   "outputs": [
    {
     "data": {
      "text/plain": [
       "list"
      ]
     },
     "execution_count": 9,
     "metadata": {},
     "output_type": "execute_result"
    }
   ],
   "source": [
    "type(_data)"
   ]
  },
  {
   "cell_type": "code",
   "execution_count": 46,
   "metadata": {},
   "outputs": [
    {
     "name": "stdout",
     "output_type": "stream",
     "text": [
      "[['-1.4942683' '32.40292' '4.0']\n",
      " ['-4.8974113' '69.40542' '7.0']\n",
      " ['-19.046196' '-31.16156' '9.0']\n",
      " ['61.31326' '-14.466006' '8.0']\n",
      " ['17.41965' '-0.66559273' '2.0']\n",
      " ['20.075819' '12.780175' '1.0']\n",
      " ['-58.33902' '-12.129147' '1.0']\n",
      " ['-44.675434' '-36.76419' '2.0']\n",
      " ['37.806778' '19.950216' '0.0']\n",
      " ['-15.086156' '-6.904208' '1.0']\n",
      " ['19.408829' '-62.19301' '3.0']\n",
      " ['4.305963' '-41.01206' '1.0']]\n"
     ]
    }
   ],
   "source": [
    "a = np.array(_data)\n",
    "print(a)"
   ]
  },
  {
   "cell_type": "code",
   "execution_count": 11,
   "metadata": {},
   "outputs": [],
   "source": [
    "b = a[:2]"
   ]
  },
  {
   "cell_type": "code",
   "execution_count": 12,
   "metadata": {},
   "outputs": [
    {
     "data": {
      "text/plain": [
       "array([['111', '222', '1'],\n",
       "       ['222', '333', '2']], dtype='<U3')"
      ]
     },
     "execution_count": 12,
     "metadata": {},
     "output_type": "execute_result"
    }
   ],
   "source": [
    "b"
   ]
  },
  {
   "cell_type": "code",
   "execution_count": 15,
   "metadata": {},
   "outputs": [],
   "source": [
    "data = a[:, :2]"
   ]
  },
  {
   "cell_type": "code",
   "execution_count": 16,
   "metadata": {},
   "outputs": [
    {
     "data": {
      "text/plain": [
       "array([['111', '222'],\n",
       "       ['222', '333'],\n",
       "       ['555', '666'],\n",
       "       ['123', '123'],\n",
       "       ['512', '444'],\n",
       "       ['641', '631']], dtype='<U3')"
      ]
     },
     "execution_count": 16,
     "metadata": {},
     "output_type": "execute_result"
    }
   ],
   "source": [
    "data"
   ]
  },
  {
   "cell_type": "code",
   "execution_count": 32,
   "metadata": {},
   "outputs": [],
   "source": [
    "title = a[:, -1:]"
   ]
  },
  {
   "cell_type": "code",
   "execution_count": 33,
   "metadata": {},
   "outputs": [
    {
     "data": {
      "text/plain": [
       "array([['1'],\n",
       "       ['2'],\n",
       "       ['3'],\n",
       "       ['2'],\n",
       "       ['1'],\n",
       "       ['3']], dtype='<U3')"
      ]
     },
     "execution_count": 33,
     "metadata": {},
     "output_type": "execute_result"
    }
   ],
   "source": [
    "title"
   ]
  },
  {
   "cell_type": "code",
   "execution_count": 34,
   "metadata": {},
   "outputs": [
    {
     "data": {
      "text/plain": [
       "array(['1', '2', '3', '2', '1', '3'], dtype='<U3')"
      ]
     },
     "execution_count": 34,
     "metadata": {},
     "output_type": "execute_result"
    }
   ],
   "source": [
    "title = title.flatten()\n",
    "title"
   ]
  },
  {
   "cell_type": "code",
   "execution_count": 35,
   "metadata": {},
   "outputs": [],
   "source": [
    "title = title.tolist()"
   ]
  },
  {
   "cell_type": "code",
   "execution_count": 36,
   "metadata": {},
   "outputs": [
    {
     "data": {
      "text/plain": [
       "['1', '2', '3', '2', '1', '3']"
      ]
     },
     "execution_count": 36,
     "metadata": {},
     "output_type": "execute_result"
    }
   ],
   "source": [
    "title"
   ]
  },
  {
   "cell_type": "code",
   "execution_count": 37,
   "metadata": {},
   "outputs": [
    {
     "data": {
      "text/plain": [
       "[['111', '222'],\n",
       " ['222', '333'],\n",
       " ['555', '666'],\n",
       " ['123', '123'],\n",
       " ['512', '444'],\n",
       " ['641', '631']]"
      ]
     },
     "execution_count": 37,
     "metadata": {},
     "output_type": "execute_result"
    }
   ],
   "source": [
    "data"
   ]
  },
  {
   "cell_type": "code",
   "execution_count": 38,
   "metadata": {},
   "outputs": [],
   "source": [
    "a = [\"@katyperry\", \"@justinbieber\", \"@BarackObama\", \"@YouTube\", \"@taylorswift13\", \"@ladygaga\", \"@britneyspears\", \"@rihanna\", \"@instagram\", \"@jtimberlake\", \"@twitter\", \"@TheEllenShow\", \"@JLo\", \"@Cristiano\", \"@shakira\", \"@Oprah\", \"@Pink\", \"@ddlovato\", \"@KimKardashian\", \"@Harry_Styles\", \"@selenagomez\", \"@OfficialAdele\", \"@KAKA\", \"@onedirection\", \"@aliciakeys\", \"@NiallOfficial\", \"@BrunoMars\", \"@MileyCyrus\", \"@Eminem\", \"@NICKIMINAJ\", \"@Real_Liam_Payne\", \"@pitbull\", \"@cnnbrk\", \"@Louis_Tomlinson\", \"@LilTunechi\", \"@BillGates\", \"@aplusk\", \"@ArianaGrande\", \"@AvrilLavigne\", \"@Drake\", \"@MariahCarey\", \"@davidguetta\", \"@wizkhalifa\", \"@twitter_es\", \"@facebook\", \"@chrisbrown\", \"@EmWatson\", \"@Beyonce\", \"@KingJames\", \"@jimmyfallon\", \"@CNN\", \"@zaynmalik\", \"@ParisHilton\", \"@RyanSeacrest\", \"@coldplay\", \"@JimCarrey\", \"@xtina\", \"@kourtneykardash\", \"@iamwill\", \"@FCBarcelona\", \"@neymarjr\", \"@nytimes\", \"@ashleytisdale\", \"@UberSoc\", \"@SnoopDogg\", \"@tyrabanks\", \"@AlejandroSanz\", \"@ConanOBrien\", \"@realmadrid\", \"@charliesheen\", \"@MTV\", \"@KevinHart4real\", \"@agnezmo\", \"@kanyewest\", \"@khloekardashian\", \"@LeoDiCaprio\", \"@NBA\", \"@ricky_martin\", \"@vineapp\", \"@BBCBreaking\", \"@carlyraejepsen\", \"@ivetesangalo\", \"@SimonCowell\", \"@espn\", \"@iamdiddy\", \"@edsheeran\", \"@10Ronaldinho\", \"@kelly_clarkson\", \"@Usher\", \"@danieltosh\", \"@Ludacris\", \"@paulocoelho\", \"@juanes\", \"@SrBachchan\", \"@WayneRooney\", \"@MohamadAlarefe\", \"@DalaiLama\", \"@ActuallyNPH\", \"@ClaudiaLeitte\", \"@andresiniesta8\", \"@TwitPic\", \"@SamsungMobile\", \"@ZacEfron\", \"@paurubio\", \"@3gerardpique\", \"@TweetRAMALAN\", \"@google\", \"@SHAQ\", \"@nickjonas\", \"@maroon5\", \"@tomhanks\", \"@LMFAO\", \"@programapanico\", \"@LucianoHuck\", \"@KendallJenner\", \"@lindsaylohan\", \"@iamsrk\", \"@funnyordie\", \"@marcosmion\", \"@rustyrockets\", \"@sherinasinna\", \"@SportsCenter\", \"@VictoriaJustice\", \"@SabrinaSatoReal\", \"@CNNEE\", \"@XabiAlonso\", \"@victoriabeckham\", \"@TreySongz\", \"@50cent\", \"@enrique305\", \"@LunaMaya26\", \"@jessicaalba\", \"@detikcom\", \"@BeingSalmanKhan\", \"@aamir_khan\", \"@TheRock\", \"@radityadika\", \"@joejonas\", \"@Anahi\", \"@JessicaSimpson\", \"@stephenfry\", \"@snooki\", \"@UberFacts\", \"@EvaLongoria\", \"@cesc4official\", \"@vidialdiano\", \"@Carles5puyol\", \"@nfl\", \"@daddy_yankee\", \"@CodySimpson\", \"@NASA\", \"@BreakingNews\", \"@annecurtissmith\", \"@MesutOzil1088\", \"@JessieJ\", \"@KylieJenner\", \"@blakeshelton\", \"@afgansyah_reza\", \"@NatGeo\", \"@rede_globo\", \"@FCBarcelona_es\", \"@eonline\", \"@StephenAtHome\", \"@BBCWorld\", \"@CMYLMZ\", \"@MirandaCosgrove\", \"@KDTrey5\", \"@davidbisbal\", \"@ChespiritoRGB\", \"@priyankachopra\", \"@RafaelNadal\", \"@NeYoCompound\", \"@Starbucks\", \"@deepikapadukone\", \"@Dr_alqarnee\", \"@rafinhabastos\", \"@luisfonsi\", \"@JohnCena\", \"@channingtatum\", \"@AustinMahone\", \"@shugairi\", \"@OMGFacts\", \"@CherLloyd\", \"@aguerosergiokun\", \"@IAMQUEENLATIFAH\", \"@Guaje7Villa\", \"@KELLYROWLAND\", \"@SofiaVergara\", \"@DaniloGentili\", \"@Pontifex_es\", \"@hootsuite\", \"@TheOnion\", \"@PerezHilton\", \"@MarcAnthony\", \"@TIME\", \"@iTunesMusic\", \"@iHrithik\", \"@rickygervais\", \"@Legendarios\", \"@LittleMix\", \"@ciara\", \"@showdavida\", \"@thalia\", \"@Android\", \"@ollyofficial\", \"@OneLouderApps\", \"@rioferdy5\", \"@ZooeyDeschanel\", \"@marcoluque\", \"@SethMacFarlane\", \"@BigSean\", \"@106andpark\", \"@peoplemag\", \"@Tyga\", \"@Akon\", \"@chelseahandler\", \"@johnlegend\", \"@shireensungkar\", \"@Persie_Official\", \"@montanertwiter\", \"@NasehatSuper\", \"@jennettemccurdy\", \"@jason_mraz\", \"@official_flo\", \"@Metro_TV\", \"@bellathorne\", \"@MichelleObama\", \"@realwbonner\", \"@justdemi\", \"@SarahKSilverman\", \"@FALCAO\", \"@TheEconomist\", \"@SamsungMobileUS\", \"@twitcam\", \"@MarceloTas\", \"@Tip\", \"@SpiderAnderson\", \"@officialjaden\", \"@DwightHoward\", \"@kobebryant\", \"@oceara\", \"@Fearnecotton\", \"@JColeNC\", \"@JuanLuisGuerra\", \"@akshaykumar\", \"@rodrigovesgo\", \"@adamlevine\", \"@SBYudhoyono\", \"@Calle13Oficial\", \"@iansomerhalder\", \"@jonas_ent\", \"@narendramodi\", \"@andersoncooper\", \"@TwitterMusic\", \"@Notebook\", \"@TheXFactor\", \"@FloydMayweather\", \"@carmeloanthony\", \"@DulceMaria\", \"@bep\", \"@SteveMartinToGo\", \"@INDONESIAinLOVE\", \"@robkardashian\", \"@CHAYANNEMUSIC\", \"@DaniAlvesD2\", \"@LoveTexts\", \"@WhiteHouse\", \"@NicoleScherzy\", \"@ChampionsLeague\", \"@Microsoft\", \"@Dior\", \"@Ricardo_Arjona\", \"@maryjblige\", \"@CHANEL\", \"@premierleague\", \"@bepe20s\", \"@EugenioDerbez\", \"@luansantana\", \"@NickCannon\", \"@kata2bijak\", \"@salman_alodah\", \"@lilyallen\", \"@SergioRamos\", \"@pepatah\", \"@ninadobrev\", \"@yokoono\", \"@GalileaMontijo\", \"@CherylCole\", \"@cbabdullahgul\", \"@mishari_alafasy\", \"@jess_iskandar\", \"@AlArabiya_Brk\", \"@ahickmann\", \"@tvOneNews\", \"@cinema21\", \"@WSJ\", \"@143redangel\", \"@TomCruise\", \"@SandyLeah\", \"@hollywills\", \"@LennyKravitz\", \"@souljaboy\", \"@kevinjonas\", \"@Zendaya\", \"@hcapriles\", \"@Reuters\", \"@MacMiller\", \"@RedHourBen\", \"@llcoolj\", \"@WWE\", \"@nicolerichie\", \"@msleamichele\", \"@HilaryDuff\", \"@sachin_rt\", \"@sonamakapoor\", \"@DJPaulyD\", \"@juniorbachchan\", \"@noaheverett\", \"@CalvinHarris\", \"@FCBarcelona_cat\", \"@ScottDisick\", \"@shahidkapoor\", \"@JonahHill\", \"@RevRunWisdom\", \"@olla_ramlan\", \"@Fiuk\", \"@JKCorden\", \"@DwyaneWade\", \"@KrisJenner\", \"@IrfanBachdim10\", \"@RT_Erdogan\", \"@MikeTyson\", \"@HuffingtonPost\", \"@girlposts\", \"@serenawilliams\", \"@ClaroRonaldo\", \"@WhatTheFFacts\", \"@NabilAlawadhy\", \"@RealHughJackman\", \"@gitagut\", \"@OMARCHAPARRO\", \"@PlayStation\", \"@RealLamarOdom\", \"@Pontifex\", \"@DiegoForlan7\", \"@BlackBerry\", \"@richardbranson\", \"@arrahman\", \"@LanaDelRey\", \"@bridgitmendler\", \"@galifianakisz\", \"@simonpegg\", \"@RaffiAhmadLagi\", \"@chavezcandanga\", \"@Windows\", \"@linkinpark\", \"@siwon407\", \"@piersmorgan\", \"@GarethBale11\", \"@VictoriasSecret\", \"@JordinSparks\", \"@AJArabic\", \"@karanjohar\", \"@AlanCarr\", \"@VanessaHudgens\", \"@oserginho\", \"@jimmykimmel\", \"@mashable\", \"@FoxNews\", \"@donghae861015\", \"@mirandalambert\", \"@muyinteresante\", \"@chelseafc\", \"@Gusttavo_lima\", \"@atademirer\", \"@Arsenal\", \"@TigerWoods\", \"@vicegandako\", \"@azizansari\", \"@voguemagazine\", \"@pittyleone\", \"@jimmycarr\", \"@iamjamiefoxx\", \"@lancearmstrong\", \"@la_patilla\", \"@jamieoliver\", \"@NoticiasCaracol\", \"@iCarly\", \"@rainnwilson\", \"@werevertumorro\", \"@GalatasaraySK\", \"@yelyahwilliams\", \"@NoticiasRCN\", \"@SamuelLJackson\", \"@wisinyyandel\", \"@SoDamnTrue\", \"@kendricklamar\", \"@Pharrell\", \"@KeriHilson\", \"@PretaGil\", \"@IamAngelicaP\", \"@OfficialWillow\", \"@Lakers\", \"@DemetAkalin\", \"@wossy\", \"@Skype\", \"@lucyhale\", \"@GloriaTrevi\", \"@1victorvaldes\", \"@DONOMAR\", \"@juanmata8\", \"@realmadriden\", \"@Disney\", \"@G_Higuain\", \"@hulyavsar\", \"@TomCavalcante1\", \"@BillCosby\", \"@EleanorJCalder\", \"@WholeFoods\", \"@scooterbraun\", \"@CH14_\", \"@KellyOsbourne\", \"@RitaOra\", \"@Wale\", \"@RollingStone\", \"@AlArabiya\", \"@carrieunderwood\", \"@Nelly_Mo\", \"@OzzyOsbourne\", \"@psy_oppa\", \"@SeanKingston\", \"@tonyhawk\", \"@FIFAcom\", \"@indrabektiasli\", \"@Skrillex\", \"@KeshaRose\", \"@JENNIWOWW\", \"@Dropbox\", \"@ochocinco\", \"@antanddec\", \"@D_DeGea\", \"@DisneyPixar\", \"@TechCrunch\", \"@gabyespino\", \"@MLB\", \"@Ahlam_Alshamsi\", \"@micheltelo\", \"@tylerperry\", \"@GaryBarlow\", \"@CarlosLoret\", \"@kc_concepcion\", \"@JeremyClarkson\", \"@MYXphilippines\", \"@lulopilato\", \"@ChinoyNacho\", \"@Lmao\", \"@IAMJHUD\", \"@elissakh\", \"@NickelodeonTV\", \"@RandyOrton\", \"@hm\", \"@SonyPics_4Teens\", \"@officialtulisa\", \"@bigtimerush\", \"@ntvspor\", \"@louisck\", \"@wyclef\", \"@dahSyatMusik\", \"@AndreaLegarreta\", \"@YordiRosado\", \"@sabqorg\", \"@julietav\", \"@DjKingAssassin\", \"@okanbayulgen\", \"@lopezdoriga\", \"@EmilyOsment\", \"@jimjonescapo\", \"@KevinSpacey\", \"@DrOz\", \"@MeekMill\", \"@joelmchale\", \"@VEJA\", \"@Lord_Sugar\", \"@twittermedia\", \"@gadiiing\", \"@Nike\", \"@TravieMcCoy\", \"@FactsOfSchool\", \"@AP\", \"@DebbyRyan\", \"@imVkohli\", \"@snaptu\", \"@NoelSchajris\", \"@ThatsSarcasm\", \"@intel\", \"@5SOS\", \"@robdyrdek\", \"@Jenna_Marbles\", \"@jk_rowling\", \"@usainbolt\"]"
   ]
  },
  {
   "cell_type": "code",
   "execution_count": 39,
   "metadata": {},
   "outputs": [
    {
     "data": {
      "text/plain": [
       "500"
      ]
     },
     "execution_count": 39,
     "metadata": {},
     "output_type": "execute_result"
    }
   ],
   "source": [
    "len(a)"
   ]
  },
  {
   "cell_type": "code",
   "execution_count": 40,
   "metadata": {},
   "outputs": [],
   "source": [
    "b = [-1.0000000000000013, -0.267380087412741, -0.11615283492826931, -0.30135899016686346, -0.24416685049219905, -0.19253557609196537, -0.22714806252104716, -0.27041522965299841, -0.31035833410112795, -0.18744903899222023, -0.14575165770187867, -0.27766069000203181, -0.12775905455839723, -0.28305092690235495, -0.13052489395528602, -0.066139057011132471, -0.20241757527684673, -0.21712420824262008, -0.32248364076203989, -0.21150432876343089, -0.27057768747693134, -0.14630048324066994, -0.20368775057626312, -0.13848584442177708, -0.23654549467812733, -0.17637097452940986, -0.21187353764621844, -0.31903402670175862, -0.29777032889394428, -0.1920192491742761, -0.1986867562722027, -0.15029517269781625, -0.21975736199752163, -0.16443435240774404, -0.12879230530910943, -0.35773765111421191, -0.3622479424987049, -0.17464545026997866, -0.31875428702117581, -0.1544701397770778, -0.13503274981514163, -0.19127192075993807, -0.095546057075004395, -0.082035278660034058, -0.19830731007396699, -0.19003547573780991, -0.16436580487182206, -0.084262610176629574, -0.16383472909592708, -0.137588341888322, -0.1322637887944996, -0.19508038664077371, -0.25366233395204779, -0.1984420940330435, -0.2018432718505305, -0.17755180224257358, -0.19458341930724712, -0.14700367857675681, -0.1370132992716879, -0.17199174448227175, -0.080982769293929571, -0.29814479915965136, -0.24176090673756578, -0.059266510435286475, -0.2744291177848493, -0.18185494670794378, -0.069734431967007057, -0.18036469595450302, -0.13746646960752951, -0.30425986100211827, -0.25752638931305288, -0.086742964536839579, -0.099732832184729975, -0.22568420788968604, -0.14060256811542424, -0.24755537350861548, -0.099406591878205941, -0.17782497706495307, -0.12887064052185876, -0.20728052622941667, -0.14113900679129279, -0.10280789608769904, -0.12496716774195121, -0.16823179746043973, -0.28820076256983229, -0.17735811877830859, -0.10580076306292606, -0.13401934987452707, -0.28967416616039016, -0.10272650074386379, -0.18081165343439273, -0.16305167124554945, -0.10459601274970379, -0.085470943588285678, -0.19027564589486232, -0.07031437234709173, -0.11201752182740363, -0.17543963386292766, -0.099448902454784036, -0.077920102622703324, -0.094612697050581368, -0.12555496708697159, -0.13213535690901518, -0.11048704358196734, -0.1364975603656392, -0.009114142307836753, -0.24363148833072587, -0.28085765739238572, -0.2255678081017487, -0.26324018084024864, -0.061818410551513596, -0.1613128263060114, -0.02569843533426832, -0.10974869863099104, -0.20383592448877985, -0.24968070402078404, -0.20005483635775065, -0.34779301669922058, -0.091594089243648924, -0.24373453734296155, -0.16203968999132284, -0.1695972964397949, -0.25706995303123997, -0.13844782657545027, -0.12978311018859881, -0.24303122818485667, -0.083376420313507504, -0.14060001597507293, -0.10675455780726791, -0.19360240254755695, -0.090767149355131901, -0.17332771104953434, -0.17160156204550533, -0.039625879335558341, -0.097348948795076468, -0.19102926356189764, -0.043158760454727482, -0.28445986161785003, -0.075866144689049286, -0.32815199490800329, -0.227827418540824, -0.21852618570332913, -0.17519266074196552, -0.14627636161450186, -0.1164368079788759, -0.1501415301561953, -0.12181863791256828, -0.33913276102736883, -0.095095876338300439, -0.12898305473607891, -0.28398768284161363, -0.15764022070183017, -0.14592588152148403, -0.15979067383552209, -0.32611101900437039, -0.13987904699250403, -0.12936153674639328, -0.21044017703620677, -0.30257466470799049, -0.1326567349649394, -0.10601644455678319, -0.29748587026214041, -0.11175886055801869, -0.26653957096932734, -0.11117581999812537, -0.1256272015266236, -0.15373656956924769, -0.076090043666163384, -0.052657673072498148, -0.19494405126354358, -0.13871872307949512, -0.29209012191290873, -0.075108695594746172, -0.099189420490991956, -0.014429077740430342, -0.051988951795967638, -0.093783205385753549, -0.17907739589218991, -0.17503159853882158, -0.17669384240817454, -0.012869580787855783, -0.20757863943366534, -0.17024786970163536, -0.11121910153147264, -0.30196726907765026, -0.13680495180613045, -0.20894713328514844, -0.23075917464614323, -0.068064221695169347, -0.0032725486404929483, -0.2021127907850977, -0.33837227840254075, -0.27694306188495982, -0.12708623442228995, -0.32458650802503869, -0.24699684870604183, -0.16027522158971338, -0.18844915991975902, -0.14993756208605402, -0.11215273482066666, -0.30610013231639477, -0.11143045985194334, -0.14093851799335685, -0.16809614850572568, -0.22512017731552256, -0.21909877352283641, -0.12602027450508324, -0.14814331340148459, -0.11318519640032368, -0.087485485977403868, -0.15815148294111483, -0.099937106383362423, -0.28844331680469121, -0.17978357391038569, -0.31637947447042097, -0.32039123436385641, -0.2727644825346397, -0.092869208814709392, -0.16410899151190506, -0.076702173134972837, -0.030770159267140652, -0.20096025360372699, -0.33838442078859615, -0.21790194253968032, -0.18375138291920862, -0.14628187641479157, -0.22900845378148785, -0.044960172674823558, -0.1992410042228305, -0.28789449898161529, -0.096587805179889727, -0.35836522937528137, -0.088209600729873175, -0.24949992779438948, -0.12790500252708398, -0.12677890993738691, -0.17837020900263614, -0.16526556049497176, -0.094304124523180585, -0.17259704557762556, -0.17348601219359069, -0.18223672982482986, -0.11823249185884556, -0.018460355655166762, -0.28647987682590714, -0.16413083721406943, -0.15687900944656027, -0.034897302920400372, -0.10142964528625524, -0.26679059845798608, -0.16069737020483377, -0.11661545462489642, -0.13981382672692269, -0.23575511065119523, -0.3396694939804582, -0.096948885262523016, -0.22634914580829313, -0.30305344247802379, -0.087740937316994838, -0.16503694624915374, -0.16236716500017842, -0.026717014551254505, -0.19165356339238518, -0.064100682972229733, -0.14285385017099297, -0.31073139325515509, -0.11838792420976517, -0.23462518612102962, -0.24239332041207809, -0.23691515459382503, -0.12196558745908737, -0.11252350783781968, -0.15361705807323339, -0.1487320413456836, -0.22186340613505734, -0.14476466310214464, -0.10677037820853802, -0.14162675524411694, -0.17741556976254921, -0.027290906743309293, -0.050715109020349619, -0.25763579683100818, -0.10514208497589871, -0.0012181507213151204, -0.26178137371119659, -0.20627745837490027, -0.0678739787615871, -0.14147265450019775, -0.088977377824420778, -0.1163012219812823, -0.061001397574843873, -0.00026431193382143119, -0.1631916600942081, -0.13697396307817716, -0.083578271418341052, -0.2816140819535331, -0.17336544728219672, -0.13882039903832485, -0.046336374773046751, -0.08943298966636927, -0.20464612300410104, -0.13576338459874457, -0.1090962027696679, -0.08761892601279013, -0.05209444280172279, -0.27205086468537271, -0.17423907464234242, -0.22343959170196401, -0.22099679013062129, -0.078279526341290262, -0.17546157096763293, -0.23476405834294264, -0.3142908775020759, -0.098220671565270021, -0.25305474371956621, -0.12951638022103534, -0.14356233534555835, -0.083517963168745823, -0.26513269713250415, -0.11138190852374222, -0.2837317467115949, -0.22888245153055758, -0.14925888095073758, -0.088530678866453424, -0.050014027004467373, -0.084372422153766127, -0.21974277805725873, -0.31964278568628701, -0.16484778872597303, -0.14886525155587954, -0.017890752891791747, -0.15524077705593822, -0.33285462606621002, -0.26634730445651494, -0.24976351297697635, -0.16497025656170947, -0.28316247552973312, -0.0498736433921802, -0.19067551954786405, -0.079323209413354259, -0.12821683276716753, -0.25303094621712191, -0.13809520608613318, -0.044413376470224024, -0.10609740468868274, -0.13880344271059677, -0.36399180235225198, -0.30140530735045867, -0.29938793817001524, -0.27868581519219732, -0.19658931894487738, -0.17377115585656064, -0.17856452628610286, -0.0098040559592101999, -0.069591594625861661, -0.12024473614521491, -0.2671828472429697, -0.065548145079326575, -0.1843231743872101, -0.10922676396991612, -0.19957118108279431, -0.13531075714441126, -0.13966908446616416, -0.1002174288029134, -0.25974820766385542, -0.082266021174326784, -0.26389565455042985, -0.32585878749466812, -0.28705821624316036, -0.33527575128182369, -0.23716600403364313, -0.1370845395770483, -0.15060785002526064, -0.10855132824297004, -0.11103286346928919, -0.14028585213228581, -0.23981528358449367, -0.044445448680340262, -0.21971171772595066, -0.31287543116719507, -0.094715960342812988, -0.19588224762065259, -0.11376147226335523, -0.20360994465350638, -0.15618483308832085, -0.2169332916136528, -0.12058408764376713, -0.1368546044246545, -0.28187658257010967, -0.047942652541941293, -0.13059699913083098, -0.18832091191950498, -0.11518835302810626, -0.1525182059619864, -0.13518082340439858, -0.29010659884190887, -0.17521594319731851, -0.2508892315119704, -0.2357135547401277, -0.073748736233658532, -0.10384175200882712, -0.26176803584981395, -0.17689963521203519, -0.11675168948781384, -0.15522614701065546, -0.058937075040749742, -0.13941777627448437, -0.037524495118808739, -0.080233704154312455, -0.088307387953093119, -0.22866503251466752, -0.16504076070525694, -0.35298337927396589, -0.030808546579815178, -0.22492654240843818, -0.14583865488530773, -0.2846893017705987, -0.14362237033027347, -0.10552896331256974, -0.21085457446172762, -0.11349126216010351, -0.30638327241909041, -0.32438883069700158, -0.088050574775280818, -0.27816025983527254, -0.021388302061855085, -0.20880175447336946, -0.18822167556087779, -0.26044823463185734, -0.13254372638942274, -0.14099923864891148, -0.21304616677314314, -0.068816965218518322, -0.043390832020576753, -0.25201064147330526, -0.12276377748712938, -0.06510776895265627, -0.27265983757971712, -0.082418730908831964, -0.15689043132580155, -0.12472719019009698, -0.27784745478668826, -0.27841416610028746, -0.15242065020762754, -0.30829288911974523, -0.079481817646556832, -0.0965962690133053, -0.15363543036800145, -0.11374418331344428, -0.085499508886081724, -0.2514186238596256, -0.14522171918676219, -0.17934007220581663, -0.095706934367978849, -0.11694860685378118, -0.35575801713310184, -0.19258213765663265, -0.19714466370448697, -0.26155768210258301, -0.080141369219423705, -0.34672070809310279, -0.26326269982560307, -0.14720340626204295, -0.16466317389554069, -0.1381929621625011, -0.11139141632997704, -0.064369628704764398, -0.044395647946740655, -0.14743573472550059, -0.11489878205302283, -0.17326151881201682, -0.14731677663202736, -0.21668660541207072, -0.15582419686392465, -0.081992254516124449, -0.18440221349183042, -0.11703341677661509, -0.2864825260244247, -0.28268727284010342, -0.23115719755338085, -0.20430206409433815, -0.24814163919993421, -0.19847932257556022, -0.052820654798158402, -0.061515874134808295, -0.013351769682231574, -0.28651332336882429, -0.19136416672055273, -0.23747393405363576, -0.11710204061600668, -0.19858223848048717, -0.065101620212033029, -0.081285247014676779, -0.18175493336881748, -0.23656094599007341, -0.19801679703194888, -0.15676306777965865, -0.13447264172144205, -0.16245636966820662, -0.21141350128712691]"
   ]
  },
  {
   "cell_type": "code",
   "execution_count": 41,
   "metadata": {},
   "outputs": [
    {
     "data": {
      "text/plain": [
       "500"
      ]
     },
     "execution_count": 41,
     "metadata": {},
     "output_type": "execute_result"
    }
   ],
   "source": [
    "len(b)"
   ]
  },
  {
   "cell_type": "code",
   "execution_count": null,
   "metadata": {},
   "outputs": [],
   "source": []
  }
 ],
 "metadata": {
  "kernelspec": {
   "display_name": "python3",
   "language": "python",
   "name": "python3"
  },
  "language_info": {
   "codemirror_mode": {
    "name": "ipython",
    "version": 3
   },
   "file_extension": ".py",
   "mimetype": "text/x-python",
   "name": "python",
   "nbconvert_exporter": "python",
   "pygments_lexer": "ipython3",
   "version": "3.6.5"
  }
 },
 "nbformat": 4,
 "nbformat_minor": 2
}
