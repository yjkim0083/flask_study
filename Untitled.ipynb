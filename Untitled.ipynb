{
 "cells": [
  {
   "cell_type": "code",
   "execution_count": 2,
   "metadata": {},
   "outputs": [],
   "source": [
    "import numpy as np\n",
    "import csv"
   ]
  },
  {
   "cell_type": "code",
   "execution_count": 4,
   "metadata": {},
   "outputs": [
    {
     "name": "stdout",
     "output_type": "stream",
     "text": [
      " C 드라이브의 볼륨에는 이름이 없습니다.\n",
      " 볼륨 일련 번호: 6CC4-5DB0\n",
      "\n",
      " C:\\workspace\\python\\flask 디렉터리\n",
      "\n",
      "2019-06-13  오후 10:08    <DIR>          .\n",
      "2019-06-13  오후 10:08    <DIR>          ..\n",
      "2019-06-13  오후 10:18    <DIR>          .idea\n",
      "2019-06-13  오후 10:02    <DIR>          .ipynb_checkpoints\n",
      "2019-06-13  오후 10:01               772 app222.py\n",
      "2019-06-13  오후 08:21                82 hello.csv\n",
      "2019-06-13  오후 08:30             1,359 hello.py\n",
      "2019-04-18  오후 09:27    <DIR>          static\n",
      "2019-04-18  오후 09:43    <DIR>          templates\n",
      "2019-06-13  오후 10:08               561 Untitled.ipynb\n",
      "2019-06-13  오후 10:01    <DIR>          __pycache__\n",
      "               4개 파일               2,774 바이트\n",
      "               7개 디렉터리  136,421,216,256 바이트 남음\n"
     ]
    }
   ],
   "source": [
    "!dir"
   ]
  },
  {
   "cell_type": "code",
   "execution_count": 11,
   "metadata": {},
   "outputs": [
    {
     "data": {
      "text/plain": [
       "[['name', 'age', 'grade'],\n",
       " ['111', '222', '1'],\n",
       " ['222', '333', '2'],\n",
       " ['555', '666', '3'],\n",
       " ['123', '123', '2'],\n",
       " ['512', '444', '1'],\n",
       " ['641', '631', '3']]"
      ]
     },
     "execution_count": 11,
     "metadata": {},
     "output_type": "execute_result"
    }
   ],
   "source": [
    "_data = \"\"\n",
    "with open(\"hello.csv\", 'r') as f:\n",
    "    reader = csv.reader(f, delimiter=\",\")\n",
    "    _data = list(reader)\n",
    "_data\n",
    "#     headers = next(reader)\n",
    "#     data = list(reader)\n",
    "#     _data = np.array(data).astype(float)"
   ]
  },
  {
   "cell_type": "code",
   "execution_count": 6,
   "metadata": {},
   "outputs": [
    {
     "name": "stdout",
     "output_type": "stream",
     "text": [
      "[[111. 222.   1.]\n",
      " [222. 333.   2.]\n",
      " [555. 666.   3.]\n",
      " [123. 123.   2.]\n",
      " [512. 444.   1.]\n",
      " [641. 631.   3.]]\n"
     ]
    }
   ],
   "source": [
    "print(_data)"
   ]
  },
  {
   "cell_type": "code",
   "execution_count": 7,
   "metadata": {},
   "outputs": [
    {
     "data": {
      "text/plain": [
       "['name', 'age', 'grade']"
      ]
     },
     "execution_count": 7,
     "metadata": {},
     "output_type": "execute_result"
    }
   ],
   "source": [
    "headers"
   ]
  },
  {
   "cell_type": "code",
   "execution_count": 8,
   "metadata": {},
   "outputs": [
    {
     "data": {
      "text/plain": [
       "[['111', '222', '1'],\n",
       " ['222', '333', '2'],\n",
       " ['555', '666', '3'],\n",
       " ['123', '123', '2'],\n",
       " ['512', '444', '1'],\n",
       " ['641', '631', '3']]"
      ]
     },
     "execution_count": 8,
     "metadata": {},
     "output_type": "execute_result"
    }
   ],
   "source": [
    "data"
   ]
  },
  {
   "cell_type": "code",
   "execution_count": null,
   "metadata": {},
   "outputs": [],
   "source": []
  }
 ],
 "metadata": {
  "kernelspec": {
   "display_name": "Python 3",
   "language": "python",
   "name": "python3"
  },
  "language_info": {
   "codemirror_mode": {
    "name": "ipython",
    "version": 3
   },
   "file_extension": ".py",
   "mimetype": "text/x-python",
   "name": "python",
   "nbconvert_exporter": "python",
   "pygments_lexer": "ipython3",
   "version": "3.5.6"
  }
 },
 "nbformat": 4,
 "nbformat_minor": 2
}
